{
 "cells": [
  {
   "cell_type": "code",
   "execution_count": 29,
   "id": "576aa628-19df-4273-b7a8-673164188db2",
   "metadata": {},
   "outputs": [],
   "source": [
    "import quandl\n",
    "import numpy as np\n",
    "import pandas as pd\n",
    "import matplotlib.pyplot as plt\n",
    "import risk_management_utils as erk\n",
    "quandl.ApiConfig.api_key=\"eEB2sf2qxsV18u4dG6Ve\""
   ]
  },
  {
   "cell_type": "code",
   "execution_count": 272,
   "id": "4df89760-21ed-4569-92bf-281e16d0efb5",
   "metadata": {},
   "outputs": [
    {
     "name": "stdout",
     "output_type": "stream",
     "text": [
      "The autoreload extension is already loaded. To reload it, use:\n",
      "  %reload_ext autoreload\n"
     ]
    }
   ],
   "source": [
    "%load_ext autoreload\n",
    "%autoreload 2\n",
    "%matplotlib inline"
   ]
  },
  {
   "cell_type": "code",
   "execution_count": 150,
   "id": "f6fd01bb-2503-4d11-90a1-616c668f311e",
   "metadata": {},
   "outputs": [],
   "source": [
    "af=quandl.get(\"BSE/BOM500440\") ## hindalco\n",
    "bf=quandl.get(\"BSE/BOM533519\") ## L&T Finance holding\n",
    "cf=quandl.get(\"BSE/BOM532215\")## axis bank\n",
    "df=quandl.get(\"BSE/BOM590003\")## KV bank\n",
    "ef=quandl.get(\"BSE/BOM500325\")## RIL"
   ]
  },
  {
   "cell_type": "code",
   "execution_count": 151,
   "id": "3f8b6999-a926-41d3-b52a-9f124240f625",
   "metadata": {},
   "outputs": [],
   "source": [
    "af.rename(columns={\"Close\":\"Hindalco\"},inplace=True)\n",
    "bf.rename(columns={\"Close\":\"L&T_Fin\"},inplace=True)\n",
    "cf.rename(columns={\"Close\":\"Axis_Bank\"},inplace=True)\n",
    "df.rename(columns={\"Close\":\"KV_BANK\"},inplace=True)\n",
    "ef.rename(columns={\"Close\":\"RIL\"},inplace=True)"
   ]
  },
  {
   "cell_type": "code",
   "execution_count": 152,
   "id": "f947b1ea-d0ac-4bd5-951e-618a98ae8fb1",
   "metadata": {},
   "outputs": [],
   "source": [
    "af_1=af[\"Hindalco\"]\n",
    "bf_1=bf[\"L&T_Fin\"]\n",
    "cf_1=cf[\"Axis_Bank\"]\n",
    "df_1=df[\"KV_BANK\"]\n",
    "ef_1=ef[\"RIL\"]"
   ]
  },
  {
   "cell_type": "code",
   "execution_count": 153,
   "id": "184ac2af-0fab-4cbb-8049-a7c70ebf508e",
   "metadata": {},
   "outputs": [],
   "source": [
    "retur=pd.concat([af_1,bf_1,cf_1,df_1,ef_1],axis=1,\n",
    "                  names={\"Hindalco\",\"L&T_Fin\",\"Axis_Bank\",\"KV_BANK\",\"RIL\"})\n",
    "daily_returns=retur.pct_change()\n",
    "daily_returns=daily_returns.tail(247)"
   ]
  },
  {
   "cell_type": "code",
   "execution_count": 240,
   "id": "a9e19b76-723e-44f3-b68e-0288abe421e5",
   "metadata": {},
   "outputs": [
    {
     "data": {
      "text/html": [
       "<div>\n",
       "<style scoped>\n",
       "    .dataframe tbody tr th:only-of-type {\n",
       "        vertical-align: middle;\n",
       "    }\n",
       "\n",
       "    .dataframe tbody tr th {\n",
       "        vertical-align: top;\n",
       "    }\n",
       "\n",
       "    .dataframe thead th {\n",
       "        text-align: right;\n",
       "    }\n",
       "</style>\n",
       "<table border=\"1\" class=\"dataframe\">\n",
       "  <thead>\n",
       "    <tr style=\"text-align: right;\">\n",
       "      <th></th>\n",
       "      <th>Hindalco</th>\n",
       "      <th>L&amp;T_Fin</th>\n",
       "      <th>Axis_Bank</th>\n",
       "      <th>KV_BANK</th>\n",
       "      <th>RIL</th>\n",
       "    </tr>\n",
       "    <tr>\n",
       "      <th>Date</th>\n",
       "      <th></th>\n",
       "      <th></th>\n",
       "      <th></th>\n",
       "      <th></th>\n",
       "      <th></th>\n",
       "    </tr>\n",
       "  </thead>\n",
       "  <tbody>\n",
       "    <tr>\n",
       "      <th>2022-05-04</th>\n",
       "      <td>-0.047560</td>\n",
       "      <td>-0.042528</td>\n",
       "      <td>-0.028255</td>\n",
       "      <td>-0.023785</td>\n",
       "      <td>-0.031433</td>\n",
       "    </tr>\n",
       "    <tr>\n",
       "      <th>2022-05-05</th>\n",
       "      <td>0.000217</td>\n",
       "      <td>0.008020</td>\n",
       "      <td>-0.006650</td>\n",
       "      <td>-0.002119</td>\n",
       "      <td>-0.019457</td>\n",
       "    </tr>\n",
       "    <tr>\n",
       "      <th>2022-05-06</th>\n",
       "      <td>-0.038228</td>\n",
       "      <td>-0.007344</td>\n",
       "      <td>-0.041094</td>\n",
       "      <td>-0.022293</td>\n",
       "      <td>-0.007422</td>\n",
       "    </tr>\n",
       "    <tr>\n",
       "      <th>2022-05-09</th>\n",
       "      <td>0.000113</td>\n",
       "      <td>-0.008015</td>\n",
       "      <td>-0.013592</td>\n",
       "      <td>-0.020630</td>\n",
       "      <td>-0.039677</td>\n",
       "    </tr>\n",
       "    <tr>\n",
       "      <th>2022-05-10</th>\n",
       "      <td>-0.047512</td>\n",
       "      <td>-0.006837</td>\n",
       "      <td>-0.006475</td>\n",
       "      <td>-0.009978</td>\n",
       "      <td>-0.017440</td>\n",
       "    </tr>\n",
       "    <tr>\n",
       "      <th>...</th>\n",
       "      <td>...</td>\n",
       "      <td>...</td>\n",
       "      <td>...</td>\n",
       "      <td>...</td>\n",
       "      <td>...</td>\n",
       "    </tr>\n",
       "    <tr>\n",
       "      <th>2023-04-25</th>\n",
       "      <td>0.004442</td>\n",
       "      <td>-0.000333</td>\n",
       "      <td>-0.004646</td>\n",
       "      <td>-0.003130</td>\n",
       "      <td>0.007615</td>\n",
       "    </tr>\n",
       "    <tr>\n",
       "      <th>2023-04-26</th>\n",
       "      <td>-0.011521</td>\n",
       "      <td>0.002665</td>\n",
       "      <td>0.010759</td>\n",
       "      <td>-0.006803</td>\n",
       "      <td>-0.005495</td>\n",
       "    </tr>\n",
       "    <tr>\n",
       "      <th>2023-04-27</th>\n",
       "      <td>0.014363</td>\n",
       "      <td>0.005979</td>\n",
       "      <td>-0.007603</td>\n",
       "      <td>0.006849</td>\n",
       "      <td>0.006541</td>\n",
       "    </tr>\n",
       "    <tr>\n",
       "      <th>2023-04-28</th>\n",
       "      <td>0.011955</td>\n",
       "      <td>0.017942</td>\n",
       "      <td>-0.023892</td>\n",
       "      <td>0.024594</td>\n",
       "      <td>0.017960</td>\n",
       "    </tr>\n",
       "    <tr>\n",
       "      <th>2023-05-02</th>\n",
       "      <td>0.023053</td>\n",
       "      <td>-0.000433</td>\n",
       "      <td>0.012267</td>\n",
       "      <td>-0.004086</td>\n",
       "      <td>0.008615</td>\n",
       "    </tr>\n",
       "  </tbody>\n",
       "</table>\n",
       "<p>247 rows × 5 columns</p>\n",
       "</div>"
      ],
      "text/plain": [
       "            Hindalco   L&T_Fin  Axis_Bank   KV_BANK       RIL\n",
       "Date                                                         \n",
       "2022-05-04 -0.047560 -0.042528  -0.028255 -0.023785 -0.031433\n",
       "2022-05-05  0.000217  0.008020  -0.006650 -0.002119 -0.019457\n",
       "2022-05-06 -0.038228 -0.007344  -0.041094 -0.022293 -0.007422\n",
       "2022-05-09  0.000113 -0.008015  -0.013592 -0.020630 -0.039677\n",
       "2022-05-10 -0.047512 -0.006837  -0.006475 -0.009978 -0.017440\n",
       "...              ...       ...        ...       ...       ...\n",
       "2023-04-25  0.004442 -0.000333  -0.004646 -0.003130  0.007615\n",
       "2023-04-26 -0.011521  0.002665   0.010759 -0.006803 -0.005495\n",
       "2023-04-27  0.014363  0.005979  -0.007603  0.006849  0.006541\n",
       "2023-04-28  0.011955  0.017942  -0.023892  0.024594  0.017960\n",
       "2023-05-02  0.023053 -0.000433   0.012267 -0.004086  0.008615\n",
       "\n",
       "[247 rows x 5 columns]"
      ]
     },
     "execution_count": 240,
     "metadata": {},
     "output_type": "execute_result"
    }
   ],
   "source": [
    "returns=retur.tail(247)\n",
    "daily_returns"
   ]
  },
  {
   "cell_type": "code",
   "execution_count": 155,
   "id": "30567090-b537-4056-a22f-62cd12e335ef",
   "metadata": {},
   "outputs": [
    {
     "data": {
      "text/plain": [
       "0.3832408167725101"
      ]
     },
     "execution_count": 155,
     "metadata": {},
     "output_type": "execute_result"
    },
    {
     "data": {
      "image/png": "[encoded data removed]",
      "text/plain": [
       "<Figure size 432x288 with 1 Axes>"
      ]
     },
     "metadata": {
      "needs_background": "light"
     },
     "output_type": "display_data"
    }
   ],
   "source": [
    "cov=daily_returns.cov()\n",
    "plt.plot(daily_returns[\"Hindalco\"])\n",
    "np.sqrt(((daily_returns[\"Hindalco\"]-daily_returns[\"Hindalco\"].mean())**2).sum())"
   ]
  },
  {
   "cell_type": "code",
   "execution_count": 156,
   "id": "8136062c-a73c-491f-be06-6fb5998c6f99",
   "metadata": {},
   "outputs": [
    {
     "data": {
      "text/plain": [
       "Text(0.5, 1.0, ' volatility: 38.79%')"
      ]
     },
     "execution_count": 156,
     "metadata": {},
     "output_type": "execute_result"
    },
    {
     "data": {
      "image/png": "[encoded data removed]",
      "text/plain": [
       "<Figure size 432x288 with 1 Axes>"
      ]
     },
     "metadata": {
      "needs_background": "light"
     },
     "output_type": "display_data"
    }
   ],
   "source": [
    "vol=erk.annual_vol(daily_returns[\"Hindalco\"])\n",
    "str_vol = str(round(vol, 4)*100)\n",
    "\n",
    "fig, ax = plt.subplots()\n",
    "daily_returns[\"Hindalco\"].hist(ax=ax, bins=100, alpha=0.6, color='b')\n",
    "ax.set_xlabel(\"daily return\")\n",
    "ax.set_ylabel(\"daily of log return\")\n",
    "ax.set_title(\" volatility: \" + str_vol + \"%\")"
   ]
  },
  {
   "cell_type": "markdown",
   "id": "6754e96b-3f97-4985-bb5c-ae67a96dc5bb",
   "metadata": {},
   "source": [
    "## 2 asset efficient frontier\n",
    "- variance minimization"
   ]
  },
  {
   "cell_type": "code",
   "execution_count": 275,
   "id": "63b372cb-66b7-4e7f-b475-09e2f96379fc",
   "metadata": {},
   "outputs": [
    {
     "data": {
      "text/plain": [
       "<AxesSubplot:xlabel='risk', ylabel='returns'>"
      ]
     },
     "execution_count": 275,
     "metadata": {},
     "output_type": "execute_result"
    },
    {
     "data": {
      "image/png": "[encoded data removed]",
      "text/plain": [
       "<Figure size 432x288 with 1 Axes>"
      ]
     },
     "metadata": {
      "needs_background": "light"
     },
     "output_type": "display_data"
    }
   ],
   "source": [
    "l=[\"Axis_Bank\",\"L&T_Fin\"]\n",
    "n_points=50\n",
    "erk.plot_ef2(50,daily_returns[l],cov1)"
   ]
  },
  {
   "cell_type": "code",
   "execution_count": 276,
   "id": "593aa446-09e7-4869-8d79-1abeec055a8f",
   "metadata": {},
   "outputs": [
    {
     "data": {
      "text/plain": [
       "<AxesSubplot:xlabel='Volatility'>"
      ]
     },
     "execution_count": 276,
     "metadata": {},
     "output_type": "execute_result"
    },
    {
     "data": {
      "image/png": "[encoded data removed]",
      "text/plain": [
       "<Figure size 432x288 with 1 Axes>"
      ]
     },
     "metadata": {
      "needs_background": "light"
     },
     "output_type": "display_data"
    }
   ],
   "source": [
    "erk.plot_ef(50,daily_returns,cov)"
   ]
  },
  {
   "cell_type": "markdown",
   "id": "8453dcae-aa40-4d72-9190-df54e6277b6b",
   "metadata": {},
   "source": [
    "### Kissel-Glantz method"
   ]
  },
  {
   "cell_type": "code",
   "execution_count": 21,
   "id": "a621afd4-6ac7-4690-8e52-079701dbf7c8",
   "metadata": {},
   "outputs": [],
   "source": [
    "\n",
    "def KisselGlantz(returns,volatility,cov,volume,parameters,x_i,x_f):\n",
    "    \"\"\"returns the trading cost of the portfolio when switching from initial position x_i\n",
    "    to final position x_f\n",
    "    returns(np.array) : mean return of the portfolio\n",
    "    volatility(np.array) : volatility of the portfolio\n",
    "    cov(np.array) : covariance matrix\n",
    "    volume(np.array) : mean volume of the corresponding stock in the portfolio\n",
    "    parameters(np.array) : regression parameters for the calculation [alpha_1,alpha_2,alpha_3,beta,eta]\n",
    "    x_i(np.array) : current portfolio\n",
    "    x_f(np.array) : final portfolio\"\"\"\n",
    "    \n",
    "    n=len(returns)\n",
    "    alpha_1,alpha_2,alpha_3,beta,eta=parameters\n",
    "    trade=np.zeros((n))\n",
    "    c=0\n",
    "    for i in range(n):\n",
    "        q = alpha_1*np.power(100/volume[i],beta)*np.power(np.abs(x_f[i]-x_i[i]),beta+1)+ (alpha_2*volatility[i]/100 +alpha_3)*np.abs(x_f[i]-x_i[i])\n",
    "        trade[i]=q\n",
    "        c+=q\n",
    "    return c,trade"
   ]
  },
  {
   "cell_type": "code",
   "execution_count": 22,
   "id": "7b106498-e48d-4b40-9318-ddeed7c3d664",
   "metadata": {},
   "outputs": [],
   "source": [
    "returns=np.array([5.779,2.679,6.746,7.170,5.894,6.289,6.216,4.461,5.777,3.356])\n",
    "cov=np.array([[0.002647,-0.000166,-0.000142,-0.000405,0.000016,0.000045,-0.000261,-0.000060,0.000214,0.000001],\n",
    "[-0.000166,0.002769,-0.000422,0.000115,-0.000014,0.000143,-0.000164,0.000274,0.000168,-0.000364],\n",
    "[-0.000142,-0.000422,0.002704,-0.000163,-0.000135,0.000149,-0.000174,-0.000121,0.000045,0.000427],\n",
    "[-0.000405,0.000115,-0.000163,0.002479,0.000066,-0.000065,0.000088,0.000227,-0.000037,-0.000499],\n",
    "[0.000016,-0.000014,-0.000135,0.000066,0.002292,0.000160,0.000077,0.000240,0.000141,-0.000132],\n",
    "[0.000045,0.000143,0.000149,-0.000065,0.000160,0.002597,-0.000553,-0.000131,0.000122,0.000394],\n",
    "[-0.000261,-0.000164,-0.000174,0.000088,0.000077,-0.000553,0.002314,-0.000098,-0.000027,-0.000008],\n",
    "[-0.000060,0.000274,-0.000121,0.000227,0.000240,-0.000131,-0.000098,0.002317,0.000278,-0.000494],\n",
    "[0.000214,0.000168,0.000045,-0.000037,0.000141,0.000122,-0.000027,0.000278,0.002736,-0.000222],\n",
    "[0.000001,-0.000364,0.000427,-0.000499,-0.000132,0.000394,-0.000008,-0.000494,-0.000222,0.002626]])\n",
    "\n",
    "volatility=np.array([5.145,5.262,5.200,4.979,4.787,5.096,4.810,4.814,5.231,5.124])\n",
    "volume=np.array([10.000,0.100,0.010,0.100,2.000,3.000,0.500,10.000,100.000,2.000])"
   ]
  },
  {
   "cell_type": "code",
   "execution_count": 23,
   "id": "175a9c34-edfc-4a57-a2d7-34631ac26715",
   "metadata": {},
   "outputs": [],
   "source": [
    "parameters=np.array([0.0035,0.3,0.0015,0.65,0.1])\n",
    "initial =np.array([10,10,10,10,10,10,10,10,10,10])\n",
    "final =np.array([10.000,0.000,13.773,27.251,10.000,15.184,16.598,0.000,7.194,0.000])"
   ]
  },
  {
   "cell_type": "code",
   "execution_count": 28,
   "id": "d3a2fc88-473f-4be0-a21c-995b4aed66c6",
   "metadata": {},
   "outputs": [
    {
     "data": {
      "text/plain": [
       "array([0., 0., 0., 0., 0., 0., 0., 0., 0., 0.])"
      ]
     },
     "execution_count": 28,
     "metadata": {},
     "output_type": "execute_result"
    }
   ],
   "source": [
    "_,arr=KisselGlantz(returns,volatility,cov,volume,parameters,initial,initial)\n",
    "arr"
   ]
  },
  {
   "cell_type": "markdown",
   "id": "eb573de0-61dc-4e13-a0ca-5c87891c4ce9",
   "metadata": {},
   "source": [
    "### minimizing objective function i.e (mean return - lamda * variance - eta * trading_cost) \n",
    "#### s.t initial portfolio summation==final"
   ]
  },
  {
   "cell_type": "code",
   "execution_count": null,
   "id": "c7a250b2-dc85-44d8-8132-e4372c21a712",
   "metadata": {},
   "outputs": [],
   "source": [
    "from scipy.optimize import minimize\n",
    "\n",
    "def objective_fn(mean,weights,lamda,vol,eta,):\n",
    "    "
   ]
  }
 ],
 "metadata": {
  "kernelspec": {
   "display_name": "Python 3 (ipykernel)",
   "language": "python",
   "name": "python3"
  },
  "language_info": {
   "codemirror_mode": {
    "name": "ipython",
    "version": 3
   },
   "file_extension": ".py",
   "mimetype": "text/x-python",
   "name": "python",
   "nbconvert_exporter": "python",
   "pygments_lexer": "ipython3",
   "version": "3.9.7"
  }
 },
 "nbformat": 4,
 "nbformat_minor": 5
}
