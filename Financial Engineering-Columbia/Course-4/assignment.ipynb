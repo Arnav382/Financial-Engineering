{
 "cells": [
  {
   "cell_type": "code",
   "execution_count": 1,
   "id": "bd38a9aa-1ca6-41ed-a49e-2c1a77c1af3e",
   "metadata": {},
   "outputs": [],
   "source": [
    "import numpy as np\n",
    "from scipy.stats import norm"
   ]
  },
  {
   "cell_type": "code",
   "execution_count": 21,
   "id": "835c3435-aa68-4bea-84dc-43366d3dd801",
   "metadata": {},
   "outputs": [],
   "source": [
    "K=90\n",
    "S=100\n",
    "sigma=v\n",
    "r=0.05\n",
    "T=1"
   ]
  },
  {
   "cell_type": "code",
   "execution_count": 22,
   "id": "628f0400-4ded-489a-9750-59992d0edd4e",
   "metadata": {},
   "outputs": [
    {
     "data": {
      "text/plain": [
       "(7.4746859242328725, 21.864037719168614)"
      ]
     },
     "execution_count": 22,
     "metadata": {},
     "output_type": "execute_result"
    }
   ],
   "source": [
    "def BSM_call(strike=K,current_price=S,sigma=sigma,dividend_payout=0,rate=r,expiry_time=T):\n",
    "    \n",
    "    d1=(np.log(current_price/strike) + expiry_time*(rate-dividend_payout + (sigma**2)/2))/(sigma*np.sqrt(expiry_time))\n",
    "    d2=d1-sigma*np.sqrt(expiry_time)\n",
    "    price=current_price*np.exp(-1*dividend_payout*expiry_time)*norm.cdf(d1) - strike*np.exp(-1*rate*expiry_time)*norm.cdf(d2)\n",
    "    return price\n",
    "\n",
    "def BSM_put(strike=K,current_price=S,sigma=sigma,dividend_payout=0,rate=r,expiry_time=T):\n",
    "    put=BSM_call(strike,current_price,sigma,dividend_payout,rate,expiry_time) -current_price + strike*np.exp(-rate*expiry_time)\n",
    "    return put\n",
    "BSM_put(),BSM_call()"
   ]
  },
  {
   "cell_type": "code",
   "execution_count": 24,
   "id": "81b01d32-0717-4921-ab15-eb1d31e2c272",
   "metadata": {},
   "outputs": [
    {
     "data": {
      "text/plain": [
       "-0.27185737518751596"
      ]
     },
     "execution_count": 24,
     "metadata": {},
     "output_type": "execute_result"
    }
   ],
   "source": [
    "def greeks(strike=K, current_price=S, sigma=sigma, dividend_payout=0, rate=r, expiry_time=T):\n",
    "    \"\"\"delta gamma vega theta respectively of call\"\"\"\n",
    "\n",
    "    d1 = (np.log(current_price / strike) + expiry_time * (rate - dividend_payout + (sigma**2) / 2)) / (sigma * np.sqrt(expiry_time))\n",
    "    d2 = d1 - sigma * np.sqrt(expiry_time)\n",
    "\n",
    "    delta = np.exp(-dividend_payout * expiry_time) * norm.cdf(d1)\n",
    "    gamma = np.exp(-dividend_payout * expiry_time) * norm.pdf(d1) / (current_price * sigma * np.sqrt(expiry_time))\n",
    "    vega = current_price * np.exp(-dividend_payout * expiry_time) * norm.pdf(d1) * np.sqrt(expiry_time)\n",
    "    theta = (-current_price * sigma * np.exp(-dividend_payout * expiry_time) * norm.pdf(d1)) / (2 * np.sqrt(expiry_time)) - rate * strike * np.exp(-rate * expiry_time) * norm.cdf(d2) + dividend_payout * current_price * np.exp(-dividend_payout * expiry_time) * norm.cdf(d1)\n",
    "\n",
    "    return [delta, gamma, vega, theta]\n",
    "\n",
    "def digital_option(strike=K,current_price=S,sigma=sigma,dividend_payout=0,rate=r,expiry_time=T):\n",
    "    d1 = (np.log(current_price / strike) + expiry_time * (rate - dividend_payout + (sigma**2) / 2)) / (sigma * np.sqrt(expiry_time))\n",
    "    d2 = d1 - sigma * np.sqrt(expiry_time)\n",
    "    \n",
    "    ans_2=norm.cdf(d2)*np.exp(-rate*expiry_time)\n",
    "    \n",
    "    return ans_2\n",
    "greeks()[0]-1"
   ]
  },
  {
   "cell_type": "code",
   "execution_count": 43,
   "id": "4f725cd5-a597-4d05-8669-39693b155507",
   "metadata": {},
   "outputs": [
    {
     "data": {
      "text/plain": [
       "0.36642082744805093"
      ]
     },
     "execution_count": 43,
     "metadata": {},
     "output_type": "execute_result"
    }
   ],
   "source": [
    "v=0.3*np.exp(-2*((K/100)-1))\n",
    "v"
   ]
  },
  {
   "cell_type": "code",
   "execution_count": 49,
   "id": "799432ec-8263-4079-a042-7c29a6cc1fb1",
   "metadata": {},
   "outputs": [],
   "source": [
    "x=BSM_put(current_price=95,sigma=v*1.1)-BSM_put(sigma=v)\n",
    "y=BSM_put(current_price=95)-BSM_put(sigma=v)"
   ]
  },
  {
   "cell_type": "code",
   "execution_count": 50,
   "id": "b1de68aa-9c60-4b2e-bbd7-3faee0674390",
   "metadata": {},
   "outputs": [
    {
     "data": {
      "text/plain": [
       "0.5422001608767795"
      ]
     },
     "execution_count": 50,
     "metadata": {},
     "output_type": "execute_result"
    }
   ],
   "source": [
    "y/x"
   ]
  },
  {
   "cell_type": "code",
   "execution_count": null,
   "id": "9fbd2e9a-b225-4cae-b663-0f053f03ea89",
   "metadata": {},
   "outputs": [],
   "source": []
  }
 ],
 "metadata": {
  "kernelspec": {
   "display_name": "Python 3 (ipykernel)",
   "language": "python",
   "name": "python3"
  },
  "language_info": {
   "codemirror_mode": {
    "name": "ipython",
    "version": 3
   },
   "file_extension": ".py",
   "mimetype": "text/x-python",
   "name": "python",
   "nbconvert_exporter": "python",
   "pygments_lexer": "ipython3",
   "version": "3.10.9"
  }
 },
 "nbformat": 4,
 "nbformat_minor": 5
}
