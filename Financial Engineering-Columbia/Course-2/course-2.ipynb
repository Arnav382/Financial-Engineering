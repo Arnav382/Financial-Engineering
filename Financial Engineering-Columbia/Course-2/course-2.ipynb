{
 "cells": [
  {
   "cell_type": "code",
   "execution_count": 37,
   "id": "72b25fe7-4adf-4a38-9de4-7a1fc888e6f4",
   "metadata": {},
   "outputs": [],
   "source": [
    "import numpy as np\n",
    "import math\n",
    "import matplotlib.pyplot as plt\n",
    "from scipy.optimize import minimize,broyden1"
   ]
  },
  {
   "cell_type": "markdown",
   "id": "8c048def-ddb7-4a40-9ae0-9635e7fc2c0f",
   "metadata": {},
   "source": [
    "## short rate lattice"
   ]
  },
  {
   "cell_type": "code",
   "execution_count": 2,
   "id": "d2af4fe4-2de4-4679-bb89-6ae3d6b72ab6",
   "metadata": {},
   "outputs": [],
   "source": [
    "def short_rate_lattice(r_i=0.05,u=1.1,d=0.9,n=10):\n",
    "    \"\"\"creates a short rate lattice given the initial short rate,up factor, down factor and number of periods\n",
    "    \n",
    "    Parameters:\n",
    "    r_i(float): the initial short rate\n",
    "    u(float): up-factor\n",
    "    d(float): down-factor\n",
    "    n(int): no of periods\n",
    "    \n",
    "    Returns:\n",
    "    np.ndarray: A 2-D numpy array with the short rate lattice\"\"\"\n",
    "    \n",
    "    rates=np.zeros((n+1,n+1))\n",
    "    rates[0][0]=r_i\n",
    "    \n",
    "    for i in range(1,n+1):\n",
    "        rates[i][0]=rates[i-1][0]*d\n",
    "        \n",
    "        for j in range(1,i+1):\n",
    "            rates[i][j]=rates[i-1][j-1]*u\n",
    "            \n",
    "    return rates\n",
    "\n",
    "short_rates=short_rate_lattice().round(3)"
   ]
  },
  {
   "cell_type": "markdown",
   "id": "a3d7cabf-379f-4378-b6ba-4fae036ffb10",
   "metadata": {},
   "source": [
    "## pricing of zero coupon bonds\n",
    "### without coupon bearing"
   ]
  },
  {
   "cell_type": "code",
   "execution_count": 8,
   "id": "0c748e8e-fe6b-4c0c-8ccd-bde7030c435c",
   "metadata": {},
   "outputs": [],
   "source": [
    "def zcb(r_i=0.05,u=1.1,d=0.9,coupon=100.0,del_t=10,q=0.5):\n",
    "    \"\"\"creates a zero coupon bond lattice with initial short rate, up factor, down factor, coupon value\n",
    "    \n",
    "    Parameters:\n",
    "    r_i(float): the initial short rate\n",
    "    u(float): up-factor\n",
    "    d(float): down-factor\n",
    "    coupon(float): value upon maturity\n",
    "    n(int): no of periods\n",
    "    q(float): probability of up factor\n",
    "    Returns:\n",
    "    np.ndarray: A 2-D numpy array with the coupon price lattice\n",
    "    \"\"\"\n",
    "    rates=short_rate_lattice(r_i,u,d,del_t)\n",
    "    prices=np.zeros((del_t+1,del_t+1))\n",
    "    for j in range(del_t+1):\n",
    "        prices[del_t][j]=coupon\n",
    "    for i in range(del_t-1,-1,-1):\n",
    "        for j in range(i+1):\n",
    "            prices[i][j]=(q*prices[i+1][j]+(1-q)*prices[i+1][j+1])/(1+rates[i][j])\n",
    "    return prices.round(1)\n",
    "sr=short_rate_lattice()"
   ]
  },
  {
   "cell_type": "code",
   "execution_count": 9,
   "id": "1082b217-b44c-474d-98a6-27d0ec6a3fef",
   "metadata": {},
   "outputs": [],
   "source": [
    "a=zcb()"
   ]
  },
  {
   "cell_type": "markdown",
   "id": "6191e3f5-ba26-44cb-90a8-b1dc7381c6c1",
   "metadata": {},
   "source": [
    "### with coupon bearing  "
   ]
  },
  {
   "cell_type": "code",
   "execution_count": 10,
   "id": "c10e559d-e2d7-4977-854b-83b814e29ad7",
   "metadata": {},
   "outputs": [],
   "source": [
    "def coupon_bearing_bond(r_i=0.05,u=1.1,d=0.9,coupon=100,n=10,q=0.5,del_t=4,per=0.1,print_matrice=False):\n",
    "    \n",
    "    \"\"\"returns the forward price of the coupon bearing bond with initial short rate, up factor,\n",
    "       down factor, coupon value, delivery time, divident percent return and the boolean expression of\n",
    "       printing forward prices matrice\n",
    "    \n",
    "    Parameters:\n",
    "    r_i(float): the initial short rate\n",
    "    u(float): up-factor\n",
    "    d(float): down-factor\n",
    "    coupon(float): value upon maturity\n",
    "    n(int): no of periods\n",
    "    q(float): probability of up factor\n",
    "    del_t(int): delivery time of bond dividends\n",
    "    per(float): dividend percent return\n",
    "    print_matrice(boolean): prints the coupon bearing bond lattice if set to true\n",
    "    int: forward price of the coupon bearing bond\n",
    "    Returns:\n",
    "    np.ndarray: A 2-D numpy array with the coupon price lattice\"\"\"\n",
    "    \n",
    "    rates=short_rate_lattice(r_i,u,d,n)\n",
    "    prices=np.zeros((n+1,n+1))\n",
    "    for j in range(n+1):\n",
    "        prices[n][j]=(1+per)*coupon\n",
    "        for i in range(n-1,-1,-1):\n",
    "            for j in range(i+1):\n",
    "                prices[i][j]=(q*prices[i+1][j]+(1-q)*prices[i+1][j+1])/(1+rates[i][j])\n",
    "                if i==del_t+1: prices[i][j]+=coupon*per\n",
    "    if print_matrice:\n",
    "        return prices.round(2)\n",
    "    \n",
    "    a=zcb(r_i,u,d,coupon,del_t,q)[0][0]\n",
    "    return (coupon*prices[0][0]/a).round(2)"
   ]
  },
  {
   "cell_type": "code",
   "execution_count": 11,
   "id": "cee21c7a-f0f3-40b9-9a2c-716a54cbce0e",
   "metadata": {},
   "outputs": [
    {
     "data": {
      "text/plain": [
       "array([[ 75.62,   0.  ,   0.  ,   0.  ,   0.  ,   0.  ,   0.  ,   0.  ,\n",
       "          0.  ,   0.  ,   0.  ],\n",
       "       [ 82.57,  76.24,   0.  ,   0.  ,   0.  ,   0.  ,   0.  ,   0.  ,\n",
       "          0.  ,   0.  ,   0.  ],\n",
       "       [ 89.05,  83.53,  77.33,   0.  ,   0.  ,   0.  ,   0.  ,   0.  ,\n",
       "          0.  ,   0.  ,   0.  ],\n",
       "       [ 94.98,  90.32,  85.  ,  79.01,   0.  ,   0.  ,   0.  ,   0.  ,\n",
       "          0.  ,   0.  ,   0.  ],\n",
       "       [100.35,  96.55,  92.15,  87.11,  81.43,   0.  ,   0.  ,   0.  ,\n",
       "          0.  ,   0.  ,   0.  ],\n",
       "       [105.12, 102.16,  98.68,  94.65,  90.02,  84.77,   0.  ,   0.  ,\n",
       "          0.  ,   0.  ,   0.  ],\n",
       "       [ 99.05,  96.81,  94.15,  91.03,  87.39,  83.19,  78.39,   0.  ,\n",
       "          0.  ,   0.  ,   0.  ],\n",
       "       [102.47, 100.9 ,  99.01,  96.77,  94.12,  91.02,  87.41,  83.25,\n",
       "          0.  ,   0.  ,   0.  ],\n",
       "       [105.41, 104.43, 103.25, 101.84, 100.15,  98.14,  95.77,  92.98,\n",
       "         89.74,   0.  ,   0.  ],\n",
       "       [107.91, 107.46, 106.91, 106.24, 105.44, 104.48, 103.33, 101.95,\n",
       "        100.32,  98.4 ,   0.  ],\n",
       "       [110.  , 110.  , 110.  , 110.  , 110.  , 110.  , 110.  , 110.  ,\n",
       "        110.  , 110.  , 110.  ]])"
      ]
     },
     "execution_count": 11,
     "metadata": {},
     "output_type": "execute_result"
    }
   ],
   "source": [
    "coupon_bearing_bond(print_matrice=True)\n"
   ]
  },
  {
   "cell_type": "markdown",
   "id": "48653864-d46b-44ad-9131-5154636b6f72",
   "metadata": {},
   "source": [
    "### pricing of European options on zero coupon bonds(ZCB)"
   ]
  },
  {
   "cell_type": "code",
   "execution_count": 12,
   "id": "9e8ea3c8-5d99-4225-8372-e415265055c6",
   "metadata": {},
   "outputs": [],
   "source": [
    "def european_op(zcb=a,exp_t=2,K=84.,sr_lat=sr,q=0.5,type_=\"c\"):\n",
    "    \"\"\"\n",
    "    computes european option price of a zcb with no coupon bearing with expiration time and strike price\n",
    "    \n",
    "    Parameters:\n",
    "    zcb(2-D numpy array): zero coupon bond pricing lattice\n",
    "    exp_t(int): expiration time\n",
    "    K(float): strike price\n",
    "    q(float): probability of up factor\n",
    "    type_(char): type of option, default is call(c), other option is put(p)\n",
    "    Returns:\n",
    "    np.ndarray: A 2-D numpy array with the coupon price lattice\n",
    "    \"\"\"\n",
    "    \n",
    "    zcb=zcb[:exp_t+1]\n",
    "    n=zcb.shape[0]\n",
    "    new=np.zeros((n,n))\n",
    "    payoff=zcb[-1:][0]\n",
    "    \n",
    "    if type_==\"c\":\n",
    "        for i in range(n):\n",
    "            payoff[i]=max(payoff[i]-K,0)\n",
    "            new[n-1][i]=payoff[i]\n",
    "        \n",
    "        for i in range(exp_t-1,-1,-1):\n",
    "            for j in range(i+1):\n",
    "                new[i][j]=(q*new[i+1][j]+(1-q)*new[i+1][j+1])/(1+sr[i][j])\n",
    "    \n",
    "    elif type_==\"p\":\n",
    "        for i in range(n):\n",
    "            payoff[i]=max(K-payoff[i],0)\n",
    "            new[n-1][i]=payoff[i]\n",
    "        \n",
    "        for i in range(exp_t-1,-1,-1):\n",
    "            for j in range(i+1):\n",
    "                new[i][j]=(q*new[i+1][j]+(1-q)*new[i+1][j+1])/(1+sr[i][j])\n",
    "    else:\n",
    "        print(\"Invalid type, returning empty matrice\")\n",
    "    return new"
   ]
  },
  {
   "cell_type": "code",
   "execution_count": 13,
   "id": "282e2a7a-9c5b-4138-bdc1-f36c4cc59893",
   "metadata": {},
   "outputs": [
    {
     "data": {
      "text/plain": [
       "array([[14.54713907,  0.        ,  0.        ],\n",
       "       [12.91866029, 17.63033175,  0.        ],\n",
       "       [11.1       , 15.9       , 21.3       ]])"
      ]
     },
     "execution_count": 13,
     "metadata": {},
     "output_type": "execute_result"
    }
   ],
   "source": [
    "a=zcb()\n",
    "european_op(type_='p')"
   ]
  },
  {
   "cell_type": "code",
   "execution_count": 14,
   "id": "1e511989-6b9a-46a9-9516-1e832d8db408",
   "metadata": {},
   "outputs": [],
   "source": [
    "def american_op(zcb=a,exp_t=6,K=80.,sr_lat=sr,q=0.5,type_=\"c\"):\n",
    "    \"\"\"computes American put option price of a zcb with no coupon bearing with expiration time and strike price\n",
    "    \n",
    "    Parameters:\n",
    "    zcb(2-D numpy array): zero coupon bond pricing lattice\n",
    "    exp_t(int): expiration time\n",
    "    K(float): strike price\n",
    "    q(float): probability of up factor\n",
    "    type_(char): type of option, default is put(p), other option is call(c)\"\"\"\n",
    "    zcb=zcb[:exp_t+1]\n",
    "    n=zcb.shape[0]\n",
    "    new=np.zeros((n,n))\n",
    "    payoff=zcb[-1:][0]\n",
    "    if type_==\"p\":\n",
    "        for i in range(n):\n",
    "            payoff[i]=max(K-payoff[i],0)\n",
    "            new[n-1][i]=payoff[i]\n",
    "    \n",
    "        for i in range(exp_t-1,-1,-1):\n",
    "            for j in range(i+1):\n",
    "                new[i][j]=max(K-zcb[i][j],(q*new[i+1][j]+(1-q)*new[i+1][j+1])/(1+sr[i][j]))\n",
    "                \n",
    "    elif type_==\"c\":\n",
    "        for i in range(n):\n",
    "            payoff[i]=max(payoff[i]-K,0)\n",
    "            new[n-1][i]=payoff[i]\n",
    "    \n",
    "        for i in range(exp_t-1,-1,-1):\n",
    "            for j in range(i+1):\n",
    "                new[i][j]=max(zcb[i][j]-K,(q*new[i+1][j]+(1-q)*new[i+1][j+1])/(1+sr[i][j]))\n",
    "    else:\n",
    "        print(\"Invalid type, returning empty matrice\")\n",
    "    return new"
   ]
  },
  {
   "cell_type": "code",
   "execution_count": 15,
   "id": "c3c48250-97bb-4735-a5de-2d5ddd9d95b4",
   "metadata": {},
   "outputs": [
    {
     "data": {
      "text/plain": [
       "array([[ 2.37,  0.  ,  0.  ,  0.  ,  0.  ,  0.  ,  0.  ],\n",
       "       [ 3.4 ,  1.57,  0.  ,  0.  ,  0.  ,  0.  ,  0.  ],\n",
       "       [ 4.65,  2.46,  0.85,  0.  ,  0.  ,  0.  ,  0.  ],\n",
       "       [ 6.03,  3.66,  1.51,  0.29,  0.  ,  0.  ,  0.  ],\n",
       "       [ 7.41,  5.09,  2.55,  0.63,  0.  ,  0.  ,  0.  ],\n",
       "       [ 8.74,  6.56,  4.02,  1.33,  0.  ,  0.  ,  0.  ],\n",
       "       [10.  ,  8.  ,  5.6 ,  2.8 ,  0.  ,  0.  ,  0.  ]])"
      ]
     },
     "execution_count": 15,
     "metadata": {},
     "output_type": "execute_result"
    }
   ],
   "source": [
    "a=zcb()\n",
    "american_op(type_=\"c\").round(2)"
   ]
  },
  {
   "cell_type": "markdown",
   "id": "3134075f-61b7-46df-87f8-f8194363f2fa",
   "metadata": {},
   "source": [
    "### futures contract of bonds pricing"
   ]
  },
  {
   "cell_type": "code",
   "execution_count": 16,
   "id": "8151a3ff-2858-4f5e-a2ad-c8b6fbe90966",
   "metadata": {},
   "outputs": [],
   "source": [
    "def future_cb(cbb=a,exp_t=4,q=.5,print_matrice=False):\n",
    "    \"\"\"\n",
    "    Returns np.darray if print_matrice is set to true, else returns the bond futures price at initial time\"\"\"\n",
    "    ca = cbb[exp_t]\n",
    "    prices=np.zeros((exp_t+1,exp_t+1))\n",
    "    for j in range(exp_t+1):\n",
    "        prices[exp_t][j]=ca[j]\n",
    "\n",
    "    for i in range(exp_t-1,-1,-1):\n",
    "        for j in range(i+1):\n",
    "            prices[i][j]=(q*prices[i+1][j]+(1-q)*prices[i+1][j+1])\n",
    "            \n",
    "    if print_matrice:\n",
    "        return prices\n",
    "    \n",
    "    return prices[0][0]"
   ]
  },
  {
   "cell_type": "code",
   "execution_count": 17,
   "id": "45121518-2eae-42ec-91db-65d058d867bc",
   "metadata": {},
   "outputs": [
    {
     "data": {
      "text/plain": [
       "array([[0.05 , 0.   , 0.   , 0.   , 0.   , 0.   , 0.   , 0.   , 0.   ,\n",
       "        0.   , 0.   ],\n",
       "       [0.045, 0.055, 0.   , 0.   , 0.   , 0.   , 0.   , 0.   , 0.   ,\n",
       "        0.   , 0.   ],\n",
       "       [0.041, 0.05 , 0.061, 0.   , 0.   , 0.   , 0.   , 0.   , 0.   ,\n",
       "        0.   , 0.   ],\n",
       "       [0.036, 0.045, 0.054, 0.067, 0.   , 0.   , 0.   , 0.   , 0.   ,\n",
       "        0.   , 0.   ],\n",
       "       [0.033, 0.04 , 0.049, 0.06 , 0.073, 0.   , 0.   , 0.   , 0.   ,\n",
       "        0.   , 0.   ],\n",
       "       [0.03 , 0.036, 0.044, 0.054, 0.066, 0.081, 0.   , 0.   , 0.   ,\n",
       "        0.   , 0.   ],\n",
       "       [0.027, 0.032, 0.04 , 0.049, 0.059, 0.072, 0.089, 0.   , 0.   ,\n",
       "        0.   , 0.   ],\n",
       "       [0.024, 0.029, 0.036, 0.044, 0.053, 0.065, 0.08 , 0.097, 0.   ,\n",
       "        0.   , 0.   ],\n",
       "       [0.022, 0.026, 0.032, 0.039, 0.048, 0.059, 0.072, 0.088, 0.107,\n",
       "        0.   , 0.   ],\n",
       "       [0.019, 0.024, 0.029, 0.035, 0.043, 0.053, 0.065, 0.079, 0.096,\n",
       "        0.118, 0.   ],\n",
       "       [0.017, 0.021, 0.026, 0.032, 0.039, 0.048, 0.058, 0.071, 0.087,\n",
       "        0.106, 0.13 ]])"
      ]
     },
     "execution_count": 17,
     "metadata": {},
     "output_type": "execute_result"
    }
   ],
   "source": [
    "future_cb(print_matrice=True,exp_t=4)\n",
    "short_rates"
   ]
  },
  {
   "cell_type": "markdown",
   "id": "423dc358-2ea4-4819-8e6d-bb4b9ab7df06",
   "metadata": {},
   "source": [
    "### caplet pricing"
   ]
  },
  {
   "cell_type": "code",
   "execution_count": 21,
   "id": "a766d65b-3802-41f2-a3fe-60d2ed91375c",
   "metadata": {},
   "outputs": [],
   "source": [
    "def caplet(K=0.02,t=6,sr_lattice=q_i,p=.5,print_matrice=True):\n",
    "    \"\"\"\n",
    "    \"\"\"\n",
    "    q=sr_lattice[-1:][0]\n",
    "    arr=np.zeros((t,t))\n",
    "    \n",
    "    for j in range(t):\n",
    "        arr[t-1][j]= max(0,q[j]-K)\n",
    "        arr[t-1][j]=arr[t-1][j]/(1+q_i[t-1][j])\n",
    "    \n",
    "    for i in range(t-2,-1,-1):\n",
    "        for j in range(i+1):\n",
    "            arr[i][j]=(p*arr[i+1][j]+(1-p)*arr[i+1][j+1])/(1+q_i[i][j])\n",
    "    if print_matrice:\n",
    "        return arr.round(4)\n",
    "    return arr[0][0]"
   ]
  },
  {
   "cell_type": "code",
   "execution_count": 22,
   "id": "cb4b8606-cec2-4116-b511-bc837a20c006",
   "metadata": {},
   "outputs": [
    {
     "data": {
      "text/plain": [
       "array([[0.042 , 0.    , 0.    , 0.    , 0.    , 0.    ],\n",
       "       [0.0375, 0.0515, 0.    , 0.    , 0.    , 0.    ],\n",
       "       [0.0321, 0.047 , 0.0637, 0.    , 0.    , 0.    ],\n",
       "       [0.0262, 0.0411, 0.0593, 0.0801, 0.    , 0.    ],\n",
       "       [0.0203, 0.0344, 0.0527, 0.0758, 0.1033, 0.    ],\n",
       "       [0.0145, 0.0276, 0.0449, 0.0685, 0.0989, 0.1378]])"
      ]
     },
     "execution_count": 22,
     "metadata": {},
     "output_type": "execute_result"
    }
   ],
   "source": [
    "q_i=short_rate_lattice(r_i=0.06,u=1.25,d=0.9,n=5).round(3)\n",
    "caplet()"
   ]
  },
  {
   "cell_type": "markdown",
   "id": "351503be-0941-47ab-840c-891a22fe6c89",
   "metadata": {},
   "source": [
    "### pricing swaps"
   ]
  },
  {
   "cell_type": "code",
   "execution_count": 23,
   "id": "205062b5-69e6-4358-a762-357815f5af06",
   "metadata": {},
   "outputs": [],
   "source": [
    "def swaps(K=0.05,t=6,first_t=1,sr_lattice=q_i,p=.5,print_matrice=False):\n",
    "    \"\"\"\n",
    "    \"\"\"\n",
    "    q=q_i[-1:][0]\n",
    "    arr=np.zeros((t,t))\n",
    "    \n",
    "    for j in range(t):\n",
    "        arr[t-1][j]= q[j]-K\n",
    "        arr[t-1][j]=arr[t-1][j]/(1+q_i[t-1][j])\n",
    "    for i in range(t-2,-1,-1):\n",
    "        for j in range(i+1):\n",
    "            arr[i][j]=(p*arr[i+1][j]+(1-p)*arr[i+1][j+1])/(1+q_i[i][j])\n",
    "            if i>=first_t-1:\n",
    "                arr[i,j]+=(q_i[i][j]-K)/(1 + q_i[i, j])\n",
    "    if print_matrice:\n",
    "        return arr.round(5)\n",
    "    return arr[0][0]"
   ]
  },
  {
   "cell_type": "code",
   "execution_count": 24,
   "id": "7cdd11ac-f347-48e4-8ef9-506a7c03657c",
   "metadata": {},
   "outputs": [
    {
     "data": {
      "text/plain": [
       "array([[ 0.0992 ,  0.     ,  0.     ,  0.     ,  0.     ,  0.     ],\n",
       "       [ 0.05001,  0.1403 ,  0.     ,  0.     ,  0.     ,  0.     ],\n",
       "       [ 0.01417,  0.08325,  0.16839,  0.     ,  0.     ,  0.     ],\n",
       "       [-0.0085 ,  0.04023,  0.10159,  0.17886,  0.     ,  0.     ],\n",
       "       [-0.01802,  0.01228,  0.05109,  0.10115,  0.16443,  0.     ],\n",
       "       [-0.01449, -0.00095,  0.01685,  0.0411 ,  0.07244,  0.11243]])"
      ]
     },
     "execution_count": 24,
     "metadata": {},
     "output_type": "execute_result"
    }
   ],
   "source": [
    "swaps(print_matrice=True)"
   ]
  },
  {
   "cell_type": "markdown",
   "id": "9a841007-8cf9-44cf-b005-787df30255ec",
   "metadata": {},
   "source": [
    "### swaption pricing"
   ]
  },
  {
   "cell_type": "code",
   "execution_count": 25,
   "id": "49f3e96e-b442-4ea9-b620-b8dc4f76361a",
   "metadata": {},
   "outputs": [
    {
     "data": {
      "text/plain": [
       "array([[ 0.06184,  0.     ,  0.     ,  0.     ,  0.     ,  0.     ],\n",
       "       [ 0.04059,  0.0905 ,  0.     ,  0.     ,  0.     ,  0.     ],\n",
       "       [ 0.01918,  0.0664 ,  0.12818,  0.     ,  0.     ,  0.     ],\n",
       "       [ 0.     ,  0.04023,  0.10159,  0.17886,  0.     ,  0.     ],\n",
       "       [-0.01802,  0.01228,  0.05109,  0.10115,  0.16443,  0.     ],\n",
       "       [-0.01449, -0.00095,  0.01685,  0.0411 ,  0.07244,  0.11243]])"
      ]
     },
     "execution_count": 25,
     "metadata": {},
     "output_type": "execute_result"
    }
   ],
   "source": [
    "def swaption(K=0.05,exp_t=3,first_t=1,sr_lattice=q_i,p=.5,print_matrice=True):\n",
    "    \"\"\" pricing of european call swaptions\n",
    "    \"\"\"\n",
    "    t=q_i.shape[0]\n",
    "    q=q_i[-1:][0]\n",
    "    prices=swaps(K,t,first_t,sr_lattice,p,print_matrice=True)\n",
    "    arr=prices\n",
    "    for j in range(t):\n",
    "        arr[exp_t][j]=max(0,arr[exp_t,j])\n",
    "        \n",
    "    for i in range(exp_t-1,-1,-1):\n",
    "        for j in range(i+1):\n",
    "            arr[i][j]=(p*arr[i+1][j]+(1-p)*arr[i+1][j+1])/(1+q_i[i][j])\n",
    "    \n",
    "    if print_matrice:\n",
    "        return arr.round(5)\n",
    "    return arr[0][0]\n",
    "swaption()"
   ]
  },
  {
   "cell_type": "markdown",
   "id": "7ea4909e-56d9-4223-bfe7-501bbf130e3c",
   "metadata": {},
   "source": [
    "### Forward equations"
   ]
  },
  {
   "cell_type": "code",
   "execution_count": 27,
   "id": "a40adabb-0b0f-4581-9ae3-473ece3d0553",
   "metadata": {},
   "outputs": [
    {
     "data": {
      "text/plain": [
       "array([[1.        , 0.        , 0.        , 0.        , 0.        ,\n",
       "        0.        ],\n",
       "       [0.47169811, 0.47169811, 0.        , 0.        , 0.        ,\n",
       "        0.        ],\n",
       "       [0.22376571, 0.44316018, 0.21939447, 0.        , 0.        ,\n",
       "        0.        ],\n",
       "       [0.10665668, 0.31412867, 0.30774369, 0.1002717 , 0.        ,\n",
       "        0.        ],\n",
       "       [0.05108078, 0.19911503, 0.28998244, 0.18683257, 0.04488438,\n",
       "        0.        ],\n",
       "       [0.02458171, 0.11894902, 0.22911752, 0.21928983, 0.10412269,\n",
       "        0.01958306]])"
      ]
     },
     "execution_count": 27,
     "metadata": {},
     "output_type": "execute_result"
    }
   ],
   "source": [
    "def forward_eqn_lattice(short_rate_lattice=q_i,for_spot_rate=False):\n",
    "    \"\"\"computes and returns forward equation lattice\"\"\"\n",
    "    n=short_rate_lattice.shape[0]\n",
    "    fwd=np.zeros((n+1,n+1))\n",
    "    fwd[0,0]=1.\n",
    "    fwd[1,0]=1/(2*(1+short_rate_lattice[0,0]))\n",
    "    fwd[1,1]=1/(2*(1+short_rate_lattice[0,0]))\n",
    "    \n",
    "    for i in range(2,n):\n",
    "        fwd[i][0]= 0.5*fwd[i-1,0]/(1+short_rate_lattice[i-1,0])\n",
    "        for j in range(1,i+1):\n",
    "            fwd[i][j]= ((fwd[i-1,j]/(2*(1+short_rate_lattice[i-1,j]))) + (fwd[i-1,j-1]/(2*(1+short_rate_lattice[i-1,j-1]))))\n",
    "    \n",
    "    fwd[n][0]=0.5*fwd[n-1,0]/(1+short_rate_lattice[n-1,0])\n",
    "    fwd[n][n]=0.5*fwd[n-1,n-1]/(1+short_rate_lattice[n-1,n-1])\n",
    "    \n",
    "    for j in range(1,n):\n",
    "        fwd[n][j]=((fwd[n-1,j]/(2*(1+short_rate_lattice[n-1,j]))) + (fwd[n-1,j-1]/(2*(1+short_rate_lattice[n-1,j-1]))))\n",
    "        \n",
    "    if for_spot_rate==False:\n",
    "        fwd=np.delete(fwd,n,0)\n",
    "        fwd=np.delete(fwd,n,1)\n",
    "    return fwd.round(8)\n",
    "        \n",
    "forward_eqn_lattice()    "
   ]
  },
  {
   "cell_type": "markdown",
   "id": "0e5662f7-9dae-476b-9c0e-47e4ccd9f50a",
   "metadata": {},
   "source": [
    "### Black Derman Toy (BDT) model"
   ]
  },
  {
   "cell_type": "code",
   "execution_count": 28,
   "id": "71db95ae-c0b9-442a-9424-bb337dab8f1c",
   "metadata": {},
   "outputs": [],
   "source": [
    "def BDT(n=14,a=14*[5.],b=0.005):\n",
    "    \"\"\"\"\"\"\n",
    "    lattice=np.zeros((n,n))\n",
    "    for i in range(n):\n",
    "        for j in range(i+1):\n",
    "            lattice[i,j]=a[i]*np.exp(b*j)\n",
    "    return lattice.round(2)/100\n",
    "q_i=BDT(n=14,a=14*[5.],b=0.005)"
   ]
  },
  {
   "cell_type": "code",
   "execution_count": null,
   "id": "31844371-f65f-4854-a0f9-41fda067b09e",
   "metadata": {},
   "outputs": [],
   "source": []
  },
  {
   "cell_type": "markdown",
   "id": "63521c48-a800-472b-a6eb-d2758954c57d",
   "metadata": {},
   "source": [
    "### building forward rate lattice using BDT lattice"
   ]
  },
  {
   "cell_type": "code",
   "execution_count": 95,
   "id": "d03c59af-ae7f-47dd-948e-604f121fe66c",
   "metadata": {},
   "outputs": [],
   "source": [
    "def forward_price_lattice(short_rate_lattice=BDT()):\n",
    "    zcb_bdt=forward_eqn_lattice(short_rate_lattice,for_spot_rate=True).round(3)\n",
    "    zcb_bdt_p=np.zeros(zcb_bdt.shape[0]-1)\n",
    "    for i in range(zcb_bdt.shape[0]-1):\n",
    "        zcb_bdt_p[i]=zcb_bdt[i+1].sum()\n",
    "    return zcb_bdt_p.round(3)\n"
   ]
  },
  {
   "cell_type": "markdown",
   "id": "9e1c8e02-5230-4c31-9cc0-897a5393540b",
   "metadata": {},
   "source": [
    "#### calculating the spot rates"
   ]
  },
  {
   "cell_type": "code",
   "execution_count": 96,
   "id": "fc0b0e3f-f26e-4930-8a65-30d91be17a0d",
   "metadata": {},
   "outputs": [],
   "source": [
    "def spot_rate(price_arr=zcb_bdt_p):\n",
    "    n=len(price_arr)\n",
    "    arr=np.zeros(n)\n",
    "    for i in range(n):\n",
    "        arr[i]=(1/price_arr[i])**(1/(i+1))\n",
    "    return arr-1"
   ]
  },
  {
   "cell_type": "markdown",
   "id": "61cadaa2-a87b-45b5-ae14-2786de7723e7",
   "metadata": {},
   "source": [
    "### calibration of BDT model"
   ]
  },
  {
   "cell_type": "markdown",
   "id": "58ef836e-8187-4a92-8e8e-20c2875dde6e",
   "metadata": {},
   "source": [
    "#### mse()\n"
   ]
  },
  {
   "cell_type": "code",
   "execution_count": 116,
   "id": "d66c28ef-6f49-49a7-9181-d576b4437496",
   "metadata": {},
   "outputs": [],
   "source": [
    "def mse(actual,predicted):\n",
    "    return ((actual-predicted)**2).sum()\n",
    "# rates=[3.0,3.1,3.2,3.3, 3.4,3.5,3.55,3.6,3.65,3.7]\n",
    "rates=[7.3,7.62,8.1,8.45,9.2,9.64,10.12,10.45,10.75,11.22,11.55,11.92,12.2,12.32]"
   ]
  },
  {
   "cell_type": "markdown",
   "id": "f648c62f-b6f3-4076-ac25-aee57ee7a2b3",
   "metadata": {},
   "source": [
    "### manual calibration"
   ]
  },
  {
   "cell_type": "code",
   "execution_count": 42,
   "id": "897c76be-2f07-41ac-b8f2-1442bc71f574",
   "metadata": {},
   "outputs": [],
   "source": [
    "# a=np.linspace(5,8,10)\n",
    "# b=np.linspace(0.00001,0.25,1000)\n",
    "# arr=[]\n",
    "# val_b=[]\n",
    "# val_a=[]\n",
    "# n=14\n",
    "# for i in range(len(a)):\n",
    "#     for j in range(len(b)):\n",
    "#         q=BDT(a=n*[a[i]],b=b[j])\n",
    "#         forward_price_lattice(q)\n",
    "#         z=spot_rate(forward_price_lattice(q))\n",
    "#         arr.append(mse(100*z,rates))\n",
    "#         val_b.append(b[j])\n",
    "#         val_a.append(a[i])"
   ]
  },
  {
   "cell_type": "code",
   "execution_count": 43,
   "id": "f0578a86-c101-47b5-a237-b232d30905a2",
   "metadata": {},
   "outputs": [],
   "source": [
    "# print(\"min loss: \",min(arr))\n",
    "# print(\"min loss value of arr: \",arr.index(min(arr)))\n",
    "# print(\"min loss value of b: \",val_b[arr.index(min(arr))])\n",
    "# print(\"min loss value of a: \",val_a[arr.index(min(arr))])\n",
    "      \n",
    "# # arr.index(min(arr))"
   ]
  },
  {
   "cell_type": "markdown",
   "id": "e7cf5a9a-81b8-447c-bb15-c924aca2820e",
   "metadata": {},
   "source": [
    "### calibrating the BDT model using scipy\n",
    "- objective: minimize mse between 100*z and rates\n",
    "- constraint1: z between 0 and 1"
   ]
  },
  {
   "cell_type": "code",
   "execution_count": null,
   "id": "65a29b30-bf04-4a36-a09d-9d15f9bbae80",
   "metadata": {},
   "outputs": [],
   "source": []
  },
  {
   "cell_type": "code",
   "execution_count": 153,
   "id": "3eb33255-a284-4181-a6f4-539dcc11fc1f",
   "metadata": {},
   "outputs": [
    {
     "data": {
      "text/plain": [
       "   direc: array([[ 1.00000000e+00,  0.00000000e+00,  0.00000000e+00,\n",
       "         0.00000000e+00,  0.00000000e+00,  0.00000000e+00,\n",
       "         0.00000000e+00,  0.00000000e+00,  0.00000000e+00,\n",
       "         0.00000000e+00,  0.00000000e+00,  0.00000000e+00,\n",
       "         0.00000000e+00,  0.00000000e+00],\n",
       "       [ 0.00000000e+00,  1.00000000e+00,  0.00000000e+00,\n",
       "         0.00000000e+00,  0.00000000e+00,  0.00000000e+00,\n",
       "         0.00000000e+00,  0.00000000e+00,  0.00000000e+00,\n",
       "         0.00000000e+00,  0.00000000e+00,  0.00000000e+00,\n",
       "         0.00000000e+00,  0.00000000e+00],\n",
       "       [ 0.00000000e+00,  0.00000000e+00,  1.00000000e+00,\n",
       "         0.00000000e+00,  0.00000000e+00,  0.00000000e+00,\n",
       "         0.00000000e+00,  0.00000000e+00,  0.00000000e+00,\n",
       "         0.00000000e+00,  0.00000000e+00,  0.00000000e+00,\n",
       "         0.00000000e+00,  0.00000000e+00],\n",
       "       [ 0.00000000e+00,  0.00000000e+00,  0.00000000e+00,\n",
       "         1.00000000e+00,  0.00000000e+00,  0.00000000e+00,\n",
       "         0.00000000e+00,  0.00000000e+00,  0.00000000e+00,\n",
       "         0.00000000e+00,  0.00000000e+00,  0.00000000e+00,\n",
       "         0.00000000e+00,  0.00000000e+00],\n",
       "       [-1.15990424e-02,  1.03331098e-02,  2.41159034e-03,\n",
       "        -6.30915609e-02,  6.98931021e-01, -6.52580253e-01,\n",
       "        -6.54765223e-03,  1.73639441e-01, -1.31533691e-01,\n",
       "        -2.94327844e-01,  2.17069031e-01, -7.74053981e-02,\n",
       "         1.72369136e-01,  6.75235257e-15],\n",
       "       [ 0.00000000e+00,  0.00000000e+00,  0.00000000e+00,\n",
       "         0.00000000e+00,  0.00000000e+00,  0.00000000e+00,\n",
       "         0.00000000e+00,  0.00000000e+00,  0.00000000e+00,\n",
       "         0.00000000e+00,  0.00000000e+00,  0.00000000e+00,\n",
       "         0.00000000e+00,  1.00000000e+00],\n",
       "       [ 0.00000000e+00,  0.00000000e+00,  0.00000000e+00,\n",
       "         0.00000000e+00,  0.00000000e+00,  0.00000000e+00,\n",
       "         1.00000000e+00,  0.00000000e+00,  0.00000000e+00,\n",
       "         0.00000000e+00,  0.00000000e+00,  0.00000000e+00,\n",
       "         0.00000000e+00,  0.00000000e+00],\n",
       "       [ 0.00000000e+00,  0.00000000e+00,  0.00000000e+00,\n",
       "         0.00000000e+00,  0.00000000e+00,  0.00000000e+00,\n",
       "         0.00000000e+00,  1.00000000e+00,  0.00000000e+00,\n",
       "         0.00000000e+00,  0.00000000e+00,  0.00000000e+00,\n",
       "         0.00000000e+00,  0.00000000e+00],\n",
       "       [ 0.00000000e+00,  0.00000000e+00,  0.00000000e+00,\n",
       "         0.00000000e+00,  0.00000000e+00,  0.00000000e+00,\n",
       "         0.00000000e+00,  0.00000000e+00,  1.00000000e+00,\n",
       "         0.00000000e+00,  0.00000000e+00,  0.00000000e+00,\n",
       "         0.00000000e+00,  0.00000000e+00],\n",
       "       [ 0.00000000e+00,  0.00000000e+00,  0.00000000e+00,\n",
       "         0.00000000e+00,  0.00000000e+00,  0.00000000e+00,\n",
       "         0.00000000e+00,  0.00000000e+00,  0.00000000e+00,\n",
       "         1.00000000e+00,  0.00000000e+00,  0.00000000e+00,\n",
       "         0.00000000e+00,  0.00000000e+00],\n",
       "       [ 0.00000000e+00,  0.00000000e+00,  0.00000000e+00,\n",
       "         0.00000000e+00,  0.00000000e+00,  0.00000000e+00,\n",
       "         0.00000000e+00,  0.00000000e+00,  0.00000000e+00,\n",
       "         0.00000000e+00,  1.00000000e+00,  0.00000000e+00,\n",
       "         0.00000000e+00,  0.00000000e+00],\n",
       "       [ 0.00000000e+00,  0.00000000e+00,  0.00000000e+00,\n",
       "         0.00000000e+00,  0.00000000e+00,  0.00000000e+00,\n",
       "         0.00000000e+00,  0.00000000e+00,  0.00000000e+00,\n",
       "         0.00000000e+00,  0.00000000e+00,  1.00000000e+00,\n",
       "         0.00000000e+00,  0.00000000e+00],\n",
       "       [ 0.00000000e+00,  0.00000000e+00,  0.00000000e+00,\n",
       "         0.00000000e+00,  0.00000000e+00,  0.00000000e+00,\n",
       "         0.00000000e+00,  0.00000000e+00,  0.00000000e+00,\n",
       "         0.00000000e+00,  0.00000000e+00,  0.00000000e+00,\n",
       "         1.00000000e+00,  0.00000000e+00],\n",
       "       [ 1.17625510e-04,  3.29228450e-03, -3.83406377e-03,\n",
       "         1.14568843e-02, -3.39056408e-02,  2.31543164e-02,\n",
       "        -3.74514509e-03, -5.43963851e-03,  1.28803209e-02,\n",
       "         3.90036075e-03, -7.51254539e-03,  1.37709350e-02,\n",
       "        -7.04553834e-03, -9.74305068e-03]])\n",
       "     fun: 2.1744270889714238e-07\n",
       " message: 'Optimization terminated successfully.'\n",
       "    nfev: 3482\n",
       "     nit: 11\n",
       "  status: 0\n",
       " success: True\n",
       "       x: array([ 7.24756185,  7.90677292,  9.05527458, 10.00736099, 11.73303839,\n",
       "       11.99854927, 12.03677363, 13.23533074, 12.50161866, 14.63609987,\n",
       "       15.01295279, 15.38803292, 15.23289858, 12.69840666])"
      ]
     },
     "execution_count": 153,
     "metadata": {},
     "output_type": "execute_result"
    }
   ],
   "source": [
    "actual_spot_rates = np.array([7.3,7.62,8.1,8.45,9.2,9.64,10.12,10.45,10.75,11.22,11.55,11.92,12.2,12.32])\n",
    "actual_spot_rates=actual_spot_rates/100\n",
    "# Define objective function to minimize\n",
    "def objective_function(a):\n",
    "    # Calculate predicted spot rates using given values of a\n",
    "    short_rate_lattice = BDT(a=a)\n",
    "    forward_prices = forward_price_lattice(short_rate_lattice)\n",
    "    predicted_spot_rates = spot_rate(forward_prices)\n",
    "\n",
    "    # Calculate mean squared error\n",
    "    mse = np.sum((actual_spot_rates - predicted_spot_rates)**2) / len(actual_spot_rates)\n",
    "\n",
    "    return mse\n",
    "\n",
    "a0 = np.array([5.0] * 14)\n",
    "b=(0.0,100.0)\n",
    "bnds=(b,)*14\n",
    "# Minimize objective function to find optimal values of a\n",
    "result = minimize(objective_function, a0, method='Powell',bounds=bnds)\n",
    "\n",
    "# Extract optimal values of a\n",
    "optimal_a = result.x\n",
    "result\n",
    "# # Print optimal values of a\n",
    "# print(\"Optimal values of a:\")\n",
    "# for i in range(len(optimal_a)):\n",
    "#     print(\"Time {}: {:.2f}\".format(i+1, optimal_a[i]))"
   ]
  },
  {
   "cell_type": "code",
   "execution_count": 156,
   "id": "41a77c2a-e9ae-45b8-b6b5-b57d6b3d1f60",
   "metadata": {},
   "outputs": [
    {
     "data": {
      "text/plain": [
       "array([ 7.29613734,  7.58287073,  8.08321954,  8.55926041,  9.233992  ,\n",
       "        9.69361555, 10.03551051, 10.4964781 , 10.74811549, 11.22901479,\n",
       "       11.53291317, 11.87993902, 12.23553864, 12.30401151])"
      ]
     },
     "execution_count": 156,
     "metadata": {},
     "output_type": "execute_result"
    }
   ],
   "source": [
    "result.x\n",
    "spot_rate(forward_price_lattice(BDT(a=result.x)))*100"
   ]
  },
  {
   "cell_type": "markdown",
   "id": "af11897a-62c8-4b8f-8db1-e9e993472f00",
   "metadata": {},
   "source": [
    "### swaption pricing in BDT model\n",
    "- Consider a 2−8 payer swaption in the BDT model with fixed rate = 11.65%\n",
    "- an option to enter an 8-year swap in 2 years time\n",
    "- settled in arrears so payments would take place in years 3 through 10\n",
    "- each payment based on prevailing short-rate of previous year\n",
    "- \"payer\" feature of option means that if option is exercised, the exerciser “pays fixed and receives floating\"\n",
    "- owner of a receiver swaption would “receive fixed and pay floating."
   ]
  },
  {
   "cell_type": "code",
   "execution_count": 205,
   "id": "4c0a2a1c-24c1-4f89-94b5-09900fa624bb",
   "metadata": {},
   "outputs": [
    {
     "data": {
      "text/plain": [
       "array([[15940.,     0.,     0.,     0.,     0.,     0.,     0.,     0.,\n",
       "            0.,     0.],\n",
       "       [16860., 17330.,     0.,     0.,     0.,     0.,     0.,     0.,\n",
       "            0.,     0.],\n",
       "       [17930., 18450., 18970.,     0.,     0.,     0.,     0.,     0.,\n",
       "            0.,     0.],\n",
       "       [19260., 19840., 20420., 20990.,     0.,     0.,     0.,     0.,\n",
       "            0.,     0.],\n",
       "       [20870., 21510., 22160., 22800., 23450.,     0.,     0.,     0.,\n",
       "            0.,     0.],\n",
       "       [22950., 23680., 24420., 25150., 25890., 26620.,     0.,     0.,\n",
       "            0.,     0.],\n",
       "       [25280., 26120., 26960., 27790., 28640., 29480., 30320.,     0.,\n",
       "            0.,     0.],\n",
       "       [27840., 28800., 29770., 30700., 31670., 32640., 33600., 34550.,\n",
       "            0.,     0.],\n",
       "       [31000., 32050., 33210., 34290., 35370., 36530., 37600., 38760.,\n",
       "        39820.,     0.],\n",
       "       [26080., 26680., 27270., 27950., 28540., 29210., 29810., 30480.,\n",
       "        31070., 31740.]])"
      ]
     },
     "execution_count": 205,
     "metadata": {},
     "output_type": "execute_result"
    }
   ],
   "source": [
    "## calibrated rates(a_i) for b=0.005\n",
    "rates=[7.3,7.62,8.1,8.45,9.2,9.64,10.12,10.45,10.75,11.22,11.55,11.92,12.2,12.32]\n",
    "\n",
    "x0=np.array(14*[5.]) ## initialising the values of a\n",
    "b=(0.0,100.0)\n",
    "bnds=(b,)*14\n",
    "q=BDT(n=14,a=x0,b=0.005)\n",
    "forward_price_lattice(q)\n",
    "z=spot_rate(forward_price_lattice(q))\n",
    "\n",
    "soln=minimize(objective_function,x0,method=\"Powell\",bounds=bnds)\n",
    "q_i=BDT(n=10,a=soln.x)\n",
    "\n",
    "spot_rate(forward_price_lattice(q_i))\n",
    "\n",
    "1e6*swaption(K=0.1165,exp_t=8,first_t=1,sr_lattice=q_i)"
   ]
  },
  {
   "cell_type": "code",
   "execution_count": null,
   "id": "6fa7d59e-fe52-44ec-84fb-2aafc4f72387",
   "metadata": {},
   "outputs": [],
   "source": []
  },
  {
   "cell_type": "markdown",
   "id": "24f11aa4-8d6c-43c2-80f9-db9412409722",
   "metadata": {},
   "source": [
    "### swaption pricing in BDT model\n",
    "- Once your model has been calibrated, compute the price of a payer swaption with notional \n",
    "- $1M that expires at time t=3\n",
    "- option strike of 00. \n",
    "- fixed rate of 3.9 and that if the option is exercised then cash-flows take place at times "
   ]
  },
  {
   "cell_type": "code",
   "execution_count": 209,
   "id": "e3c0b16b-798a-492d-9e12-296b9093d70c",
   "metadata": {},
   "outputs": [
    {
     "data": {
      "text/plain": [
       "array([[412730.,      0.,      0.,      0.,      0.,      0.,      0.,\n",
       "             0.,      0.,      0.,      0.,      0.,      0.,      0.],\n",
       "       [441880., 443420.,      0.,      0.,      0.,      0.,      0.,\n",
       "             0.,      0.,      0.,      0.,      0.,      0.,      0.],\n",
       "       [475900., 477760., 479570.,      0.,      0.,      0.,      0.,\n",
       "             0.,      0.,      0.,      0.,      0.,      0.,      0.],\n",
       "       [517900., 520130., 522350., 524560.,      0.,      0.,      0.,\n",
       "             0.,      0.,      0.,      0.,      0.,      0.,      0.],\n",
       "       [507530., 509750., 511960., 514160., 516350.,      0.,      0.,\n",
       "             0.,      0.,      0.,      0.,      0.,      0.,      0.],\n",
       "       [487670., 489860., 492040., 494210., 496380., 498540.,      0.,\n",
       "             0.,      0.,      0.,      0.,      0.,      0.,      0.],\n",
       "       [464120., 466260., 468420., 470540., 472660., 474800., 476920.,\n",
       "             0.,      0.,      0.,      0.,      0.,      0.,      0.],\n",
       "       [437570., 439620., 441730., 443820., 445860., 447950., 450030.,\n",
       "        452090.,      0.,      0.,      0.,      0.,      0.,      0.],\n",
       "       [401150., 403070., 405100., 407090., 409050., 411060., 413010.,\n",
       "        415010., 416940.,      0.,      0.,      0.,      0.,      0.],\n",
       "       [364390., 366190., 368000., 369920., 371770., 373640., 375470.,\n",
       "        377350., 379160., 381020.,      0.,      0.,      0.,      0.],\n",
       "       [309500., 311170., 312750., 314440., 316150., 317790., 319470.,\n",
       "        321120., 322790., 324420., 326090.,      0.,      0.,      0.],\n",
       "       [244150., 245570., 246880., 248250., 249670., 251100., 252500.,\n",
       "        253870., 255240., 256650., 258050., 259440.,      0.,      0.],\n",
       "       [166300., 167340., 168380., 169300., 170340., 171400., 172430.,\n",
       "        173460., 174420., 175440., 176500., 177520., 178530.,      0.],\n",
       "       [ 78080.,  78570.,  79150.,  79640.,  80120.,  80690.,  81260.,\n",
       "         81750.,  82320.,  82800.,  83370.,  83940.,  84420.,  84980.]])"
      ]
     },
     "execution_count": 209,
     "metadata": {},
     "output_type": "execute_result"
    }
   ],
   "source": [
    "x0=np.array(14*[5.]) ## initialising the values of a\n",
    "b=(0.0,100.0)\n",
    "bnds=(b,)*14\n",
    "q=BDT(n=14,a=x0,b=0.005)\n",
    "forward_price_lattice(q)\n",
    "z=spot_rate(forward_price_lattice(q))\n",
    "\n",
    "soln=minimize(objective_function,x0,method=\"Powell\",bounds=bnds)\n",
    "q_i=BDT(n=14,a=soln.x)\n",
    "\n",
    "spot_rate(forward_price_lattice(q_i))\n",
    "\n",
    "1e6*swaption(K=0.039,exp_t=3,first_t=1,sr_lattice=q_i)"
   ]
  },
  {
   "cell_type": "code",
   "execution_count": 210,
   "id": "3cb9a959-a669-4ebb-b046-43c0a2718406",
   "metadata": {},
   "outputs": [
    {
     "data": {
      "text/plain": [
       "array([[0.0725, 0.    , 0.    , 0.    , 0.    , 0.    , 0.    , 0.    ,\n",
       "        0.    , 0.    ],\n",
       "       [0.0791, 0.0795, 0.    , 0.    , 0.    , 0.    , 0.    , 0.    ,\n",
       "        0.    , 0.    ],\n",
       "       [0.0906, 0.091 , 0.0915, 0.    , 0.    , 0.    , 0.    , 0.    ,\n",
       "        0.    , 0.    ],\n",
       "       [0.1001, 0.1006, 0.1011, 0.1016, 0.    , 0.    , 0.    , 0.    ,\n",
       "        0.    , 0.    ],\n",
       "       [0.1173, 0.1179, 0.1185, 0.1191, 0.1197, 0.    , 0.    , 0.    ,\n",
       "        0.    , 0.    ],\n",
       "       [0.12  , 0.1206, 0.1212, 0.1218, 0.1224, 0.123 , 0.    , 0.    ,\n",
       "        0.    , 0.    ],\n",
       "       [0.1204, 0.121 , 0.1216, 0.1222, 0.1228, 0.1234, 0.124 , 0.    ,\n",
       "        0.    , 0.    ],\n",
       "       [0.1324, 0.133 , 0.1337, 0.1344, 0.135 , 0.1357, 0.1364, 0.1371,\n",
       "        0.    , 0.    ],\n",
       "       [0.125 , 0.1256, 0.1263, 0.1269, 0.1275, 0.1282, 0.1288, 0.1295,\n",
       "        0.1301, 0.    ],\n",
       "       [0.1464, 0.1471, 0.1478, 0.1486, 0.1493, 0.1501, 0.1508, 0.1516,\n",
       "        0.1523, 0.1531]])"
      ]
     },
     "execution_count": 210,
     "metadata": {},
     "output_type": "execute_result"
    }
   ],
   "source": [
    "q_i=BDT(n=10,a=soln.x)\n",
    "spot_rate(forward_price_lattice(q_i))\n",
    "1e6*swaption(K=0.039,first_t=3,exp_t=9,sr_lattice=q_i)\n",
    "q_i"
   ]
  },
  {
   "cell_type": "markdown",
   "id": "a22d70bd-a866-4108-ac87-187bd81866b6",
   "metadata": {},
   "source": [
    "## defaultable bond pricing"
   ]
  },
  {
   "cell_type": "code",
   "execution_count": 784,
   "id": "71eabca4-d80d-42a2-99e2-edc7903a0f31",
   "metadata": {},
   "outputs": [],
   "source": [
    "hazard_rates=0.02\n",
    "def defaultable_bond(F=100,n=4,c=0.02,interest_rate=0.025,R=0.25,hazard_rate=0.02,return_h_rate=False):\n",
    "    \"\"\"returns the price of a defaultable bond \n",
    "    Parameters:\n",
    "    F: Face value of the bond (int)\n",
    "    n: time period of the bond(time to maturity) (int)\n",
    "    interest_rate: interest rate of the market at initial period (float)\n",
    "    R: recovery rate (float)\n",
    "    return_h_rate: returns the hazard rate array if set to True, Used for calibration of model (boolean)\n",
    "    Returns:\n",
    "    price of the bond (int)\"\"\"\n",
    "    hazard_rates=n*[hazard_rate]\n",
    "    \n",
    "    cpf=n*[c*F]\n",
    "    cpf[n-1]+=F\n",
    "\n",
    "    prob_s=np.zeros(n+1)\n",
    "    prob_d=np.zeros(n+1)\n",
    "    discount_rate=np.zeros(n+1)\n",
    "    prob_s[0]=1\n",
    "    prob_d[0]=0\n",
    "    discount_rate[0]=1\n",
    "    for i in range(1,n+1):\n",
    "        prob_s[i]=prob_s[i-1]*(1-hazard_rates[i-1])\n",
    "        prob_d[i]=prob_s[i-1]*hazard_rates[i-1]\n",
    "        discount_rate[i]=1/(1 + interest_rate)**i\n",
    "    \n",
    "    dr=discount_rate[1:]\n",
    "    p_s=prob_s[1:]\n",
    "    p_d=prob_d[1:]\n",
    "    a=dr*(p_s*cpf+p_d*F*R)\n",
    "    \n",
    "    if return_h_rate:\n",
    "        return hazard_rates, a.sum()\n",
    "    \n",
    "    return a.sum()"
   ]
  },
  {
   "cell_type": "code",
   "execution_count": 786,
   "id": "c4de574d-3671-4c49-92be-a1b8ea7c5d34",
   "metadata": {},
   "outputs": [
    {
     "data": {
      "text/plain": [
       "([0.02, 0.02], 101.14503271861986)"
      ]
     },
     "execution_count": 786,
     "metadata": {},
     "output_type": "execute_result"
    }
   ],
   "source": [
    "a=defaultable_bond(c=0.05,n=2,R=0.1,return_h_rate=True)\n",
    "a"
   ]
  },
  {
   "cell_type": "markdown",
   "id": "865772d8-00a2-4347-b1e9-76e66a740563",
   "metadata": {},
   "source": [
    "### calibrating the model by tuning the hazard rates\n",
    "\n",
    "- objective : minimize the mse\n",
    "- constraint : h between 0 and 1"
   ]
  },
  {
   "cell_type": "code",
   "execution_count": null,
   "id": "4a9e5f70-e8fe-4675-9bd7-d00e16c8e85c",
   "metadata": {},
   "outputs": [],
   "source": [
    "true_price=[100.92,91.56,105.60,98.90,137.48]\n",
    "predicted=[]\n",
    "predicted.append(defaultable_bond(c=0.05,R=0.1,n=2)"
   ]
  },
  {
   "cell_type": "code",
   "execution_count": null,
   "id": "ecb0c1ba-75d3-4d38-9c95-40b6e2e977bb",
   "metadata": {},
   "outputs": [],
   "source": []
  },
  {
   "cell_type": "markdown",
   "id": "af52291d-bd6c-4156-8bc5-e6b34b1894a3",
   "metadata": {},
   "source": [
    "### Credit Default Swaps(CDS) pricing \n",
    "#### Setting of the perfect float rate that is risk neutral and arbitrage free for both seller and buyer"
   ]
  },
  {
   "cell_type": "code",
   "execution_count": 983,
   "id": "d2bd2172-d7bb-4bf2-8ecc-90f0ff64ce84",
   "metadata": {},
   "outputs": [],
   "source": [
    "principal=1000000\n",
    "hazard_rate=0.01\n",
    "n=2\n",
    "R=0.45\n",
    "theta=4 ## no of compounds in a year\n",
    "interest=0.01 ## quarterly(in this case interest rates)\n",
    "interest_rate=interest/theta\n",
    "n=n*theta\n",
    "spread=160 ## in bps\n",
    "\n",
    "hazard_rates=n*[hazard_rate]\n",
    "prob_s=np.zeros(n+1)\n",
    "prob_d=np.zeros(n+1)\n",
    "discount_rate=np.zeros(n+1)\n",
    "premium=np.zeros(n+1)\n",
    "acc_interest=np.zeros(n+1)\n",
    "\n",
    "\n",
    "prob_s[0]=1\n",
    "prob_d[0]=0\n",
    "discount_rate[0]=1\n",
    "acc_interest[0]=0\n",
    "\n",
    "for i in range(1,n+1):\n",
    "    prob_s[i]=prob_s[i-1]*(1-hazard_rates[i-1])\n",
    "    prob_d[i]=prob_s[i-1]*hazard_rates[i-1]\n",
    "    discount_rate[i]=1/(1 + interest_rate)**i\n",
    "    premium[i]=(principal*spread)*(discount_rate[i]*prob_s[i])/(theta*10000)\n",
    "acc_interest=premium*prob_d*0.5"
   ]
  },
  {
   "cell_type": "code",
   "execution_count": 985,
   "id": "1ee27c01-e118-4806-a174-f5f484130bef",
   "metadata": {},
   "outputs": [
    {
     "data": {
      "text/plain": [
       "array([ 0.        , 19.75062344, 19.30931275, 18.87786277, 18.45605317,\n",
       "       18.04366854, 17.64049829, 17.24633653, 16.86098198])"
      ]
     },
     "execution_count": 985,
     "metadata": {},
     "output_type": "execute_result"
    }
   ],
   "source": [
    "acc_interest"
   ]
  },
  {
   "cell_type": "code",
   "execution_count": 988,
   "id": "2f5b00be-7afe-4fbf-a251-540cca5af38d",
   "metadata": {},
   "outputs": [
    {
     "data": {
      "text/plain": [
       "4000.0"
      ]
     },
     "execution_count": 988,
     "metadata": {},
     "output_type": "execute_result"
    }
   ],
   "source": [
    "principal*spread*0.25*1e-4"
   ]
  },
  {
   "cell_type": "code",
   "execution_count": null,
   "id": "3043d7a3-9061-461f-94f8-4c7b5bcaa06b",
   "metadata": {},
   "outputs": [],
   "source": []
  },
  {
   "cell_type": "code",
   "execution_count": null,
   "id": "4b086d95-2082-4eaf-adb9-6dc8ab81d240",
   "metadata": {},
   "outputs": [],
   "source": []
  },
  {
   "cell_type": "code",
   "execution_count": 986,
   "id": "fa929822-acc4-441f-addb-76bc77e0f9ee",
   "metadata": {},
   "outputs": [
    {
     "data": {
      "text/plain": [
       "array([0.        , 0.01      , 0.0099    , 0.009801  , 0.00970299,\n",
       "       0.00960596, 0.0095099 , 0.0094148 , 0.00932065])"
      ]
     },
     "execution_count": 986,
     "metadata": {},
     "output_type": "execute_result"
    }
   ],
   "source": [
    "prob_d"
   ]
  },
  {
   "cell_type": "code",
   "execution_count": 973,
   "id": "b22f064b-4cea-43be-82b2-675270534d06",
   "metadata": {},
   "outputs": [
    {
     "data": {
      "text/plain": [
       "array([1.        , 0.99      , 0.9801    , 0.970299  , 0.96059601,\n",
       "       0.95099005, 0.94148015, 0.93206535, 0.92274469])"
      ]
     },
     "execution_count": 973,
     "metadata": {},
     "output_type": "execute_result"
    }
   ],
   "source": [
    "prob_s"
   ]
  },
  {
   "cell_type": "code",
   "execution_count": null,
   "id": "a0d90333-f6cc-4244-8a38-3485e7b90e2b",
   "metadata": {},
   "outputs": [],
   "source": []
  }
 ],
 "metadata": {
  "kernelspec": {
   "display_name": "Python 3 (ipykernel)",
   "language": "python",
   "name": "python3"
  },
  "language_info": {
   "codemirror_mode": {
    "name": "ipython",
    "version": 3
   },
   "file_extension": ".py",
   "mimetype": "text/x-python",
   "name": "python",
   "nbconvert_exporter": "python",
   "pygments_lexer": "ipython3",
   "version": "3.9.7"
  }
 },
 "nbformat": 4,
 "nbformat_minor": 5
}
