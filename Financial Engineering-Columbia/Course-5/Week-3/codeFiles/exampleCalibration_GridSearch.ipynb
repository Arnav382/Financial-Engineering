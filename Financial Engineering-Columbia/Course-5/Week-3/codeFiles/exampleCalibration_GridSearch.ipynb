{
 "cells": [
  {
   "cell_type": "code",
   "execution_count": 1,
   "metadata": {
    "tags": []
   },
   "outputs": [
    {
     "ename": "ModuleNotFoundError",
     "evalue": "No module named 'readPlotOptionSurface'",
     "output_type": "error",
     "traceback": [
      "\u001b[0;31m---------------------------------------------------------------------------\u001b[0m",
      "\u001b[0;31mModuleNotFoundError\u001b[0m                       Traceback (most recent call last)",
      "Cell \u001b[0;32mIn[1], line 4\u001b[0m\n\u001b[1;32m      1\u001b[0m \u001b[38;5;28;01mimport\u001b[39;00m \u001b[38;5;21;01mwarnings\u001b[39;00m\n\u001b[1;32m      2\u001b[0m warnings\u001b[38;5;241m.\u001b[39mfilterwarnings(\u001b[38;5;124m\"\u001b[39m\u001b[38;5;124mignore\u001b[39m\u001b[38;5;124m\"\u001b[39m)\n\u001b[0;32m----> 4\u001b[0m \u001b[38;5;28;01mimport\u001b[39;00m \u001b[38;5;21;01mreadPlotOptionSurface\u001b[39;00m \n\u001b[1;32m      5\u001b[0m \u001b[38;5;28;01mimport\u001b[39;00m \u001b[38;5;21;01mmodulesForCalibration\u001b[39;00m \u001b[38;5;28;01mas\u001b[39;00m \u001b[38;5;21;01mmfc\u001b[39;00m\n\u001b[1;32m      7\u001b[0m \u001b[38;5;28;01mimport\u001b[39;00m \u001b[38;5;21;01mnumpy\u001b[39;00m \u001b[38;5;28;01mas\u001b[39;00m \u001b[38;5;21;01mnp\u001b[39;00m\n",
      "\u001b[0;31mModuleNotFoundError\u001b[0m: No module named 'readPlotOptionSurface'"
     ]
    }
   ],
   "source": [
    "import warnings\n",
    "warnings.filterwarnings(\"ignore\")\n",
    "\n",
    "import readPlotOptionSurface \n",
    "import modulesForCalibration as mfc\n",
    "\n",
    "import numpy as np\n",
    "#import pandas as pd\n",
    "import matplotlib.pyplot as plt\n",
    "from matplotlib import cm\n",
    "\n",
    "#from mpl_toolkits.mplot3d import Axes3D\n",
    "#from scipy import interpolate\n",
    "#from scipy.stats import norm"
   ]
  },
  {
   "cell_type": "code",
   "execution_count": null,
   "metadata": {
    "tags": []
   },
   "outputs": [],
   "source": [
    "# Parameters\n",
    "alpha = 1.5\n",
    "eta = 0.2\n",
    "    \n",
    "n = 12\n",
    "\n",
    "# Model\n",
    "model = 'Heston'\n",
    "\n",
    "# risk free rate\n",
    "r = 0.0245\n",
    "# dividend rate\n",
    "q = 0.005\n",
    "# spot price\n",
    "S0 = 190.3"
   ]
  },
  {
   "cell_type": "code",
   "execution_count": null,
   "metadata": {},
   "outputs": [],
   "source": [
    "maturities, strikes, callPrices = readPlotOptionSurface.readNPlot()\n",
    "\n",
    "marketPrices = callPrices\n",
    "maturities_years = maturities/365.0\n"
   ]
  },
  {
   "cell_type": "markdown",
   "metadata": {},
   "source": [
    "========================================\n",
    "\n",
    "Grid Search around the starting point\n",
    "\n",
    "========================================\n",
    "\n",
    " [ 2.3     0.046   0.0825 -0.53    0.054 ]"
   ]
  },
  {
   "cell_type": "code",
   "execution_count": 2,
   "metadata": {},
   "outputs": [
    {
     "ename": "NameError",
     "evalue": "name 'mfc' is not defined",
     "output_type": "error",
     "traceback": [
      "\u001b[0;31m---------------------------------------------------------------------------\u001b[0m",
      "\u001b[0;31mNameError\u001b[0m                                 Traceback (most recent call last)",
      "Cell \u001b[0;32mIn[2], line 4\u001b[0m\n\u001b[1;32m      1\u001b[0m ind_iter \u001b[38;5;241m=\u001b[39m \u001b[38;5;241m1\u001b[39m\n\u001b[1;32m      2\u001b[0m rmseMin \u001b[38;5;241m=\u001b[39m \u001b[38;5;241m1.0e6\u001b[39m\n\u001b[0;32m----> 4\u001b[0m \u001b[38;5;28;01mfor\u001b[39;00m kappa \u001b[38;5;129;01min\u001b[39;00m \u001b[43mmfc\u001b[49m\u001b[38;5;241m.\u001b[39mmyRange(\u001b[38;5;241m1.8\u001b[39m,\u001b[38;5;241m2.8\u001b[39m,\u001b[38;5;241m0.5\u001b[39m):\n\u001b[1;32m      5\u001b[0m     \u001b[38;5;28;01mfor\u001b[39;00m theta \u001b[38;5;129;01min\u001b[39;00m mfc\u001b[38;5;241m.\u001b[39mmyRange(\u001b[38;5;241m0.036\u001b[39m,\u001b[38;5;241m0.056\u001b[39m,\u001b[38;5;241m0.01\u001b[39m):\n\u001b[1;32m      6\u001b[0m         \u001b[38;5;28;01mfor\u001b[39;00m sig \u001b[38;5;129;01min\u001b[39;00m mfc\u001b[38;5;241m.\u001b[39mmyRange(\u001b[38;5;241m0.0725\u001b[39m,\u001b[38;5;241m0.0925\u001b[39m,\u001b[38;5;241m0.01\u001b[39m):\n",
      "\u001b[0;31mNameError\u001b[0m: name 'mfc' is not defined"
     ]
    }
   ],
   "source": [
    "ind_iter = 1\n",
    "rmseMin = 1.0e6\n",
    "\n",
    "for kappa in mfc.myRange(1.8,2.8,0.5):\n",
    "    for theta in mfc.myRange(0.036,0.056,0.01):\n",
    "        for sig in mfc.myRange(0.0725,0.0925,0.01):\n",
    "            for rho in mfc.myRange(-0.63,-0.43,0.1):\n",
    "                for v0 in mfc.myRange(0.044,0.064,0.01):\n",
    "                    params = []\n",
    "                    params.append(kappa)\n",
    "                    params.append(theta)\n",
    "                    params.append(sig)\n",
    "                    params.append(rho)\n",
    "                    params.append(v0)\n",
    "                    \n",
    "                    print('i = ' + str(ind_iter))\n",
    "                    ind_iter += 1\n",
    "                    print(params)\n",
    "                    rmse = mfc.eValue(params, marketPrices, maturities_years, strikes, r, q, S0, alpha, eta, n, model)\n",
    "                    \n",
    "                    if (rmse < rmseMin):\n",
    "                        rmseMin = rmse\n",
    "                        params2 = params\n",
    "                        print('\\nnew min found')\n",
    "                        print(rmseMin)\n",
    "                        print(params2)\n",
    "                        print('')\n",
    "\n",
    "print('\\nSolution of grid search:')                        \n",
    "print(params2)\n",
    "print('Optimal rmse = ' + str(rmseMin))"
   ]
  },
  {
   "cell_type": "code",
   "execution_count": null,
   "metadata": {
    "collapsed": true,
    "jupyter": {
     "outputs_hidden": true
    }
   },
   "outputs": [],
   "source": [
    "lenT = len(maturities)\n",
    "lenK = len(strikes)\n",
    "modelPrices = np.zeros((lenT, lenK))\n",
    "\n",
    "for i in range(lenT):\n",
    "    for j in range(lenK):\n",
    "        T = maturities_years[i]\n",
    "        K = strikes[j]\n",
    "        [km, cT_km] = mfc.genericFFT(params2, S0, K, r, q, T, alpha, eta, n, model)\n",
    "        modelPrices[i,j] = cT_km[0]\n",
    "\n",
    "\n",
    "# plot\n",
    "fig = plt.figure(figsize=(10,8))\n",
    "labels = []\n",
    "colormap = cm.Spectral\n",
    "plt.gca().set_color_cycle([colormap(i) for i in np.linspace(0, 0.9, len(maturities))])\n",
    "for i in range(len(maturities)):\n",
    "    plt.plot(strikes, callPrices[i,:], 'x')\n",
    "    labels.append('T = ' + str(maturities[i]))\n",
    "    \n",
    "for i in range(len(maturities)):\n",
    "    plt.plot(strikes, modelPrices[i,:], '+')\n",
    "    labels.append('T = ' + str(maturities[i]))\n",
    "plt.legend(labels, loc='upper right', ncol=2)\n",
    "plt.grid(alpha=0.25)\n",
    "plt.xlabel('Strike')\n",
    "plt.ylabel('Price')\n",
    "plt.title('Market vs. Model')\n",
    "plt.savefig('MarketvsModel_GridSearch.png')\n",
    "plt.show() \n"
   ]
  },
  {
   "cell_type": "code",
   "execution_count": null,
   "metadata": {
    "collapsed": true,
    "jupyter": {
     "outputs_hidden": true
    }
   },
   "outputs": [],
   "source": []
  }
 ],
 "metadata": {
  "kernelspec": {
   "display_name": "Python 3 (ipykernel)",
   "language": "python",
   "name": "python3"
  },
  "language_info": {
   "codemirror_mode": {
    "name": "ipython",
    "version": 3
   },
   "file_extension": ".py",
   "mimetype": "text/x-python",
   "name": "python",
   "nbconvert_exporter": "python",
   "pygments_lexer": "ipython3",
   "version": "3.10.9"
  }
 },
 "nbformat": 4,
 "nbformat_minor": 4
}
